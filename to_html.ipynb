{
 "cells": [
  {
   "cell_type": "markdown",
   "id": "dc299207-a121-480b-92a5-022e4e403fc6",
   "metadata": {},
   "source": [
    "# すぎもちと言います\n",
    "## プログラム言語の使用歴\n",
    "### よく使う言語\n",
    "- Python\n",
    "### 勉強中の言語\n",
    "- Julia\n",
    "### 使用歴のある言語\n",
    "- C\n",
    "- Unity(C#)\n",
    "- HTML\n",
    "- CSS\n",
    "### 少し触ったことがある言語\n",
    "- Java\n",
    "- JavaScript\n",
    "- Ruby\n",
    "- Prolog / LISP\n",
    "## 趣味\n",
    "- アニメ、漫画、ラノベなどの鑑賞\n",
    "    - 転スラ\n",
    "    - メイドラゴン\n",
    "    - プランダラ\n",
    "    - ヒロアカ\n",
    "- ゲーム\n",
    "    - ポケモン\n",
    "    - APEX\n",
    "- 献血\n",
    "- 美味いものを作って食べること\n",
    "- サーバを立てたりすること\n",
    "## ネット上の活動\n",
    "- Qiita\n",
    "    - プログラミングとかIT技術に関することを書く\n",
    "    - https://qiita.com/sugimochi_1019\n",
    "- GitHub\n",
    "    - Qiitaに書いたコードとかを載せてある\n",
    "    - https://github.com/sugimochi97\n",
    "- note\n",
    "    - 恥ずかしいポエム集\n",
    "    - 見なくて良い\n",
    "    - https://note.com/sugimochi\n",
    "- YouTube\n",
    "    - 中学からやってる\n",
    "    - ゲーム動画を中心にUP\n",
    "    - 現在は休止中\n",
    "    - https://www.youtube.com/channel/UCmoawejpvmLV3ZWvSPHzaKQ"
   ]
  },
  {
   "cell_type": "markdown",
   "id": "031d454a-1c72-4cca-b3b7-acd718008d0b",
   "metadata": {},
   "source": [
    "# 作ったツール集\n",
    "- git_gistで公開しているツールはiPynb形式です\n",
    "- それ以外はWebアプリとして公開しています\n",
    "## 技マシン転売計算ツール\n",
    "- https://share.streamlit.io/sugimochi97/waza_machine_resale/app.py\n",
    "## 旅パのタイプ相性チェックツール\n",
    "- https://share.streamlit.io/sugimochi97/type_comp_app/app.py"
   ]
  },
  {
   "cell_type": "code",
   "execution_count": null,
   "id": "e3144fd3-aa20-4f6b-b081-92c57b408f97",
   "metadata": {},
   "outputs": [],
   "source": []
  }
 ],
 "metadata": {
  "kernelspec": {
   "display_name": "Python 3",
   "language": "python",
   "name": "python3"
  },
  "language_info": {
   "codemirror_mode": {
    "name": "ipython",
    "version": 3
   },
   "file_extension": ".py",
   "mimetype": "text/x-python",
   "name": "python",
   "nbconvert_exporter": "python",
   "pygments_lexer": "ipython3",
   "version": "3.8.8"
  }
 },
 "nbformat": 4,
 "nbformat_minor": 5
}
